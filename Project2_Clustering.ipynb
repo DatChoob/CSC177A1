{
 "cells": [
  {
   "cell_type": "code",
   "execution_count": null,
   "metadata": {},
   "outputs": [],
   "source": [
    "import pandas as pd\n",
    "import numpy as np\n",
    "from scipy.cluster.hierarchy import dendrogram, linkage      \n",
    "import sklearn.feature_extraction.text as sk_text\n",
    "import sklearn.cluster as sk_cluster\n",
    "import sklearn.metrics as metrics\n",
    "%matplotlib inline\n",
    "from wordcloud import WordCloud, STOPWORDS\n",
    "import matplotlib.pyplot as plt\n",
    "pd.set_option('display.max_colwidth', -1)\n",
    "import datetime\n",
    "startTime = datetime.datetime.now()\n",
    "print(str(startTime))"
   ]
  },
  {
   "cell_type": "code",
   "execution_count": 18,
   "metadata": {},
   "outputs": [
    {
     "data": {
      "text/html": [
       "<div>\n",
       "<style scoped>\n",
       "    .dataframe tbody tr th:only-of-type {\n",
       "        vertical-align: middle;\n",
       "    }\n",
       "\n",
       "    .dataframe tbody tr th {\n",
       "        vertical-align: top;\n",
       "    }\n",
       "\n",
       "    .dataframe thead th {\n",
       "        text-align: right;\n",
       "    }\n",
       "</style>\n",
       "<table border=\"1\" class=\"dataframe\">\n",
       "  <thead>\n",
       "    <tr style=\"text-align: right;\">\n",
       "      <th></th>\n",
       "      <th>Unnamed: 0</th>\n",
       "      <th>Name</th>\n",
       "      <th>ScreenName</th>\n",
       "      <th>UserID</th>\n",
       "      <th>FollowersCount</th>\n",
       "      <th>FriendsCount</th>\n",
       "      <th>Location</th>\n",
       "      <th>Description</th>\n",
       "      <th>CreatedAt</th>\n",
       "      <th>StatusID</th>\n",
       "      <th>Language</th>\n",
       "      <th>Place</th>\n",
       "      <th>RetweetCount</th>\n",
       "      <th>FavoriteCount</th>\n",
       "      <th>Text</th>\n",
       "      <th>HashMentions</th>\n",
       "      <th>FrequencyOver20</th>\n",
       "      <th>LocationSplit</th>\n",
       "    </tr>\n",
       "  </thead>\n",
       "  <tbody>\n",
       "    <tr>\n",
       "      <th>0</th>\n",
       "      <td>6</td>\n",
       "      <td>David Walling</td>\n",
       "      <td>davidjwalling</td>\n",
       "      <td>106568768</td>\n",
       "      <td>975</td>\n",
       "      <td>2781</td>\n",
       "      <td>Dallas, TX</td>\n",
       "      <td>Bloodletting secure algorithms close to the bone. #HealthIT security matters. Opinions my own. https://t.co/Dcpe6FteOq</td>\n",
       "      <td>Sat Oct 29 00:16:48 EEST 2016</td>\n",
       "      <td>792112907488079872</td>\n",
       "      <td>en</td>\n",
       "      <td>NaN</td>\n",
       "      <td>0</td>\n",
       "      <td>0</td>\n",
       "      <td>#infosec #Intel #ACM #IEEE  Impacts Haswell microarch. Paper proposes mitigations that could prevent BTB-based side https://t.co/DW6vgRAPrv</td>\n",
       "      <td>#infosec  #Intel  #ACM  #IEEE</td>\n",
       "      <td>#infosec</td>\n",
       "      <td>Dallas</td>\n",
       "    </tr>\n",
       "    <tr>\n",
       "      <th>1</th>\n",
       "      <td>13</td>\n",
       "      <td>Harry Binford</td>\n",
       "      <td>CaptainNormal</td>\n",
       "      <td>2447279666</td>\n",
       "      <td>895</td>\n",
       "      <td>1224</td>\n",
       "      <td>USA</td>\n",
       "      <td>Proud Christian husband, frequent shooting range attendee, and former law enforcement. Lifetime member of the NRA. Pro-life, Jesus is Lord. America first.</td>\n",
       "      <td>Thu Oct 27 21:44:44 EEST 2016</td>\n",
       "      <td>791712249685676032</td>\n",
       "      <td>en</td>\n",
       "      <td>NaN</td>\n",
       "      <td>0</td>\n",
       "      <td>0</td>\n",
       "      <td>@WayneDupreeShow #climatechange is the democrats' attempt to play God</td>\n",
       "      <td>@WayneDupreeShow   #climatechange</td>\n",
       "      <td>@waynedupreeshow #climatechange</td>\n",
       "      <td>USA</td>\n",
       "    </tr>\n",
       "    <tr>\n",
       "      <th>2</th>\n",
       "      <td>24</td>\n",
       "      <td>Deplorable Mina</td>\n",
       "      <td>minasmith64</td>\n",
       "      <td>2307021294</td>\n",
       "      <td>6808</td>\n",
       "      <td>6998</td>\n",
       "      <td>127.0.0.1</td>\n",
       "      <td>Farm owner, horse lover, gun lover.  Anti-Feminist.  #RedneckTaliban:Warrant Officer (honorary) #GamerGate #AltRight #Trump2016</td>\n",
       "      <td>Wed Oct 26 16:02:10 EEST 2016</td>\n",
       "      <td>791263651617394688</td>\n",
       "      <td>en</td>\n",
       "      <td>PlaceJSONImpl{name='Elgin', streetAddress='null', countryCode='US', id='7c4ae4537997a58f', country='United States', placeType='city', url='https://api.twitter.com/1.1/geo/id/7c4ae4537997a58f.json', fullName='Elgin, IL', boundingBoxType='Polygon', boundingBoxCoordinates=[[Ltwitter4j.GeoLocation;@274e98b7], geometryType='null', geometryCoordinates=null, containedWithIn=[]}</td>\n",
       "      <td>0</td>\n",
       "      <td>0</td>\n",
       "      <td>Too bad #MegynKelly remains obsessed w hammering every #Trump2016 surrogate on her show w salacious sex charges no https://t.co/SPWkgHpqcE</td>\n",
       "      <td>#MegynKelly  #Trump2016</td>\n",
       "      <td>#megynkelly #trump2016</td>\n",
       "      <td>127.0.0.1</td>\n",
       "    </tr>\n",
       "    <tr>\n",
       "      <th>3</th>\n",
       "      <td>34</td>\n",
       "      <td>My Info</td>\n",
       "      <td>chrisf91</td>\n",
       "      <td>2424856262</td>\n",
       "      <td>129</td>\n",
       "      <td>822</td>\n",
       "      <td>San Antonio, TX</td>\n",
       "      <td>im not supersticous, but... i am a little sticious...</td>\n",
       "      <td>Fri Oct 28 09:34:20 EEST 2016</td>\n",
       "      <td>791890827974840322</td>\n",
       "      <td>en</td>\n",
       "      <td>NaN</td>\n",
       "      <td>0</td>\n",
       "      <td>0</td>\n",
       "      <td>@mlombardifoxtv its ok to admit bill bellichick cusses out his players!   Hey @ochocinco this dude dont beleive u, hes all on pats nuts.</td>\n",
       "      <td>@mlombardifoxtv  @ochocinco</td>\n",
       "      <td>@ochocinco</td>\n",
       "      <td>San Antonio</td>\n",
       "    </tr>\n",
       "    <tr>\n",
       "      <th>4</th>\n",
       "      <td>40</td>\n",
       "      <td>Maria Sanchez</td>\n",
       "      <td>ShieldGirl127</td>\n",
       "      <td>1708905816</td>\n",
       "      <td>1084</td>\n",
       "      <td>2400</td>\n",
       "      <td>Phoenix, AZ</td>\n",
       "      <td>LUCHA UNDERGROUND/WWE/Teen Wolf/The Walking Dead/Total Divas/Total Bellas Fan.If Your Not Smiling Your Doing It Wrong. SMILEMORE</td>\n",
       "      <td>Mon Oct 31 04:48:16 EET 2016</td>\n",
       "      <td>792921100418060289</td>\n",
       "      <td>en</td>\n",
       "      <td>PlaceJSONImpl{name='Phoenix', streetAddress='null', countryCode='US', id='5c62ffb0f0f3479d', country='United States', placeType='city', url='https://api.twitter.com/1.1/geo/id/5c62ffb0f0f3479d.json', fullName='Phoenix, AZ', boundingBoxType='Polygon', boundingBoxCoordinates=[[Ltwitter4j.GeoLocation;@12c35d2d], geometryType='null', geometryCoordinates=null, containedWithIn=[]}</td>\n",
       "      <td>0</td>\n",
       "      <td>0</td>\n",
       "      <td>Match hasn't started yet and these two women are killing it! #RawWomensChampion #HIAC</td>\n",
       "      <td>#RawWomensChampion  #HIAC</td>\n",
       "      <td>#hiac</td>\n",
       "      <td>Phoenix</td>\n",
       "    </tr>\n",
       "  </tbody>\n",
       "</table>\n",
       "</div>"
      ],
      "text/plain": [
       "  Unnamed: 0             Name     ScreenName      UserID FollowersCount  \\\n",
       "0  6          David Walling    davidjwalling  106568768   975             \n",
       "1  13         Harry Binford    CaptainNormal  2447279666  895             \n",
       "2  24         Deplorable Mina  minasmith64    2307021294  6808            \n",
       "3  34         My Info          chrisf91       2424856262  129             \n",
       "4  40         Maria Sanchez    ShieldGirl127  1708905816  1084            \n",
       "\n",
       "  FriendsCount         Location  \\\n",
       "0  2781         Dallas, TX        \n",
       "1  1224         USA               \n",
       "2  6998         127.0.0.1         \n",
       "3  822          San Antonio, TX   \n",
       "4  2400         Phoenix, AZ       \n",
       "\n",
       "                                                                                                                                                  Description  \\\n",
       "0  Bloodletting secure algorithms close to the bone. #HealthIT security matters. Opinions my own. https://t.co/Dcpe6FteOq                                       \n",
       "1  Proud Christian husband, frequent shooting range attendee, and former law enforcement. Lifetime member of the NRA. Pro-life, Jesus is Lord. America first.   \n",
       "2  Farm owner, horse lover, gun lover.  Anti-Feminist.  #RedneckTaliban:Warrant Officer (honorary) #GamerGate #AltRight #Trump2016                              \n",
       "3  im not supersticous, but... i am a little sticious...                                                                                                        \n",
       "4  LUCHA UNDERGROUND/WWE/Teen Wolf/The Walking Dead/Total Divas/Total Bellas Fan.If Your Not Smiling Your Doing It Wrong. SMILEMORE                             \n",
       "\n",
       "                       CreatedAt            StatusID Language  \\\n",
       "0  Sat Oct 29 00:16:48 EEST 2016  792112907488079872  en        \n",
       "1  Thu Oct 27 21:44:44 EEST 2016  791712249685676032  en        \n",
       "2  Wed Oct 26 16:02:10 EEST 2016  791263651617394688  en        \n",
       "3  Fri Oct 28 09:34:20 EEST 2016  791890827974840322  en        \n",
       "4  Mon Oct 31 04:48:16 EET 2016   792921100418060289  en        \n",
       "\n",
       "                                                                                                                                                                                                                                                                                                                                                                                       Place  \\\n",
       "0  NaN                                                                                                                                                                                                                                                                                                                                                                                         \n",
       "1  NaN                                                                                                                                                                                                                                                                                                                                                                                         \n",
       "2  PlaceJSONImpl{name='Elgin', streetAddress='null', countryCode='US', id='7c4ae4537997a58f', country='United States', placeType='city', url='https://api.twitter.com/1.1/geo/id/7c4ae4537997a58f.json', fullName='Elgin, IL', boundingBoxType='Polygon', boundingBoxCoordinates=[[Ltwitter4j.GeoLocation;@274e98b7], geometryType='null', geometryCoordinates=null, containedWithIn=[]}       \n",
       "3  NaN                                                                                                                                                                                                                                                                                                                                                                                         \n",
       "4  PlaceJSONImpl{name='Phoenix', streetAddress='null', countryCode='US', id='5c62ffb0f0f3479d', country='United States', placeType='city', url='https://api.twitter.com/1.1/geo/id/5c62ffb0f0f3479d.json', fullName='Phoenix, AZ', boundingBoxType='Polygon', boundingBoxCoordinates=[[Ltwitter4j.GeoLocation;@12c35d2d], geometryType='null', geometryCoordinates=null, containedWithIn=[]}   \n",
       "\n",
       "  RetweetCount FavoriteCount  \\\n",
       "0  0            0              \n",
       "1  0            0              \n",
       "2  0            0              \n",
       "3  0            0              \n",
       "4  0            0              \n",
       "\n",
       "                                                                                                                                          Text  \\\n",
       "0  #infosec #Intel #ACM #IEEE  Impacts Haswell microarch. Paper proposes mitigations that could prevent BTB-based side https://t.co/DW6vgRAPrv   \n",
       "1  @WayneDupreeShow #climatechange is the democrats' attempt to play God                                                                         \n",
       "2  Too bad #MegynKelly remains obsessed w hammering every #Trump2016 surrogate on her show w salacious sex charges no https://t.co/SPWkgHpqcE    \n",
       "3  @mlombardifoxtv its ok to admit bill bellichick cusses out his players!   Hey @ochocinco this dude dont beleive u, hes all on pats nuts.      \n",
       "4  Match hasn't started yet and these two women are killing it! #RawWomensChampion #HIAC                                                         \n",
       "\n",
       "                        HashMentions                  FrequencyOver20  \\\n",
       "0  #infosec  #Intel  #ACM  #IEEE      #infosec                          \n",
       "1  @WayneDupreeShow   #climatechange  @waynedupreeshow #climatechange   \n",
       "2  #MegynKelly  #Trump2016            #megynkelly #trump2016            \n",
       "3  @mlombardifoxtv  @ochocinco        @ochocinco                        \n",
       "4  #RawWomensChampion  #HIAC          #hiac                             \n",
       "\n",
       "  LocationSplit  \n",
       "0  Dallas        \n",
       "1  USA           \n",
       "2  127.0.0.1     \n",
       "3  San Antonio   \n",
       "4  Phoenix       "
      ]
     },
     "execution_count": 18,
     "metadata": {},
     "output_type": "execute_result"
    }
   ],
   "source": [
    "#print initial data\n",
    "\n",
    "tweets = pd.read_csv('clean_data.csv',dtype=str)\n",
    "tweets['FrequencyOver20'] = tweets.FrequencyOver20.str.lower()\n",
    "tweets.head()\n"
   ]
  },
  {
   "cell_type": "code",
   "execution_count": null,
   "metadata": {},
   "outputs": [],
   "source": [
    "aggregateTweetsHashtags =tweets.groupby('UserID')['FrequencyOver20'].apply(lambda x: x.str.cat(sep=' '))\n",
    "tweetsPrepareSKText = pd.DataFrame({'User_id': aggregateTweetsHashtags.index, 'All_hashtags': aggregateTweetsHashtags.values})\n",
    "vectorizer = sk_text.TfidfVectorizer(max_features = 100,\n",
    "                             #min_df=100, \n",
    "                             max_df=.8,\n",
    "                             stop_words = 'english'\n",
    "                             )\n"
   ]
  },
  {
   "cell_type": "code",
   "execution_count": null,
   "metadata": {
    "scrolled": true
   },
   "outputs": [],
   "source": [
    "matrix = vectorizer.fit_transform(tweetsPrepareSKText.All_hashtags.values)\n",
    "tdidf = matrix.toarray()\n",
    "df_text = pd.DataFrame(matrix.todense(), index=aggregateTweetsHashtags.index, columns=vectorizer.get_feature_names())\n",
    "df_text.head()"
   ]
  },
  {
   "cell_type": "code",
   "execution_count": null,
   "metadata": {},
   "outputs": [],
   "source": [
    "ground_cols = ['UserID', 'GROUND_TRUTH_TEAM']\n",
    "ground_truth = pd.read_table('clinton_trump_user_classes.txt', encoding =\"ISO-8859-1\", dtype=str, names= ground_cols)\n",
    "#ground_truth.UserID = ground_truth.UserID.astype(int)\n",
    "df_text = pd.merge(df_text, ground_truth, on = 'UserID')\n",
    "#ground truth\n",
    "true = df_text['GROUND_TRUTH_TEAM'].astype(int).values"
   ]
  },
  {
   "cell_type": "code",
   "execution_count": null,
   "metadata": {},
   "outputs": [],
   "source": [
    "#Cluster centers is acs_order_centroids\n",
    "def printClusters(vectorizer,cluster_centers,num_cluster,num_to_print):\n",
    "    des_order_centroids = cluster_centers[:,::-1]     #  get the indices that sort array in descending order\n",
    "    terms = vectorizer.get_feature_names()\n",
    "\n",
    "    for i in range(num_cluster):\n",
    "        print (\"Cluster:\", i)\n",
    "        for ind in des_order_centroids[i, :num_to_print]:\n",
    "            print (terms[ind],vectorizer.vocabulary_[terms[ind]])\n",
    "        print()  \n",
    "\n"
   ]
  },
  {
   "cell_type": "code",
   "execution_count": null,
   "metadata": {},
   "outputs": [],
   "source": [
    "def printMetrics(true,kmeans):\n",
    "    print('confusion matrix\\n',metrics.confusion_matrix(true, kmeans.labels_, labels=[0, 1]))\n",
    "    print('Precision',metrics.precision_score(true, kmeans.labels_, average='weighted')) # weighted: the average precision of all clusters is returned\n",
    "    print('Recall',metrics.recall_score(true, kmeans.labels_, average='weighted'))  # weighted: the average recall of all clusters is returned\n",
    "    print('F1 Score',metrics.f1_score(true, kmeans.labels_, average= 'weighted'))     # weighted: the average f1 of all clusters is returned\n"
   ]
  },
  {
   "cell_type": "markdown",
   "metadata": {},
   "source": [
    "**K-means Clustering**"
   ]
  },
  {
   "cell_type": "code",
   "execution_count": null,
   "metadata": {},
   "outputs": [],
   "source": [
    "%%time\n",
    "kmeans = sk_cluster.KMeans(n_clusters=2, n_init=20, max_iter=200)  \n",
    "km_labels = kmeans.fit_predict(tdidf)\n",
    "error = kmeans.inertia_       #SSE; Sum of squared distances of samples to their closest cluster center."
   ]
  },
  {
   "cell_type": "code",
   "execution_count": null,
   "metadata": {},
   "outputs": [],
   "source": [
    "print (\"\\nThe total error of the clustering is: \", error)"
   ]
  },
  {
   "cell_type": "code",
   "execution_count": null,
   "metadata": {},
   "outputs": [],
   "source": [
    "printMetrics(true,kmeans)"
   ]
  },
  {
   "cell_type": "code",
   "execution_count": null,
   "metadata": {},
   "outputs": [],
   "source": [
    "printClusters(vectorizer, kmeans.cluster_centers_.argsort(),2,30)"
   ]
  },
  {
   "cell_type": "markdown",
   "metadata": {},
   "source": [
    "**MAX-Agglomerative Clustering**"
   ]
  },
  {
   "cell_type": "code",
   "execution_count": null,
   "metadata": {},
   "outputs": [],
   "source": [
    "## parameter “linkage” to “complete” gives you MAX-based agglomerative hierarchical clustering\n",
    "\n",
    "ag = sk_cluster.AgglomerativeClustering(linkage = 'complete', n_clusters = 2)   \n",
    "ag_labels = ag.fit_predict(tdidf)\n",
    "\n",
    "printMetrics(true,ag)"
   ]
  },
  {
   "cell_type": "markdown",
   "metadata": {},
   "source": [
    "**SSE-Agglomerative Clustering**"
   ]
  },
  {
   "cell_type": "code",
   "execution_count": null,
   "metadata": {},
   "outputs": [],
   "source": [
    "## parameter “linkage” to “ward” gives you SSE-based agglomerative hierarchical clustering\n",
    "\n",
    "ag = sk_cluster.AgglomerativeClustering(linkage = 'ward', n_clusters = 2)   \n",
    "ag_labels = ag.fit_predict(tdidf)\n",
    "\n",
    "printMetrics(true,ag)"
   ]
  },
  {
   "cell_type": "markdown",
   "metadata": {},
   "source": [
    "## Task 1.3 (10 pts): Show the two respective word clouds of the two centers (centroids) by using hashtags/handles and their tfidf values. Hint: Use function fit_words() that comes with wordcloud"
   ]
  },
  {
   "cell_type": "code",
   "execution_count": null,
   "metadata": {},
   "outputs": [],
   "source": [
    "# Create stopword list:\n",
    "stopwords = set(STOPWORDS)\n",
    "\n",
    "# Generate a word cloud image\n",
    "wordcloud = WordCloud(stopwords=stopwords).fit_words(vectorizer.vocabulary_)\n",
    "\n",
    "# Display the generated image:\n",
    "plt.figure(figsize=(10,5))\n",
    "plt.imshow(wordcloud, interpolation='bilinear')\n",
    "plt.axis(\"off\")\n",
    "plt.show()"
   ]
  },
  {
   "cell_type": "code",
   "execution_count": null,
   "metadata": {},
   "outputs": [],
   "source": [
    "ag = sk_cluster.AgglomerativeClustering(linkage = 'ward', n_clusters = 3)   \n",
    "\n",
    "#complete: The maximum distances\n",
    "#n_clusters: The number of clusters to find.\n",
    "\n",
    "ag_labels = ag.fit_predict(tdidf)\n",
    "\n",
    "print ('\\nPrinting cluster assignment:')\n",
    "ag_labels "
   ]
  },
  {
   "cell_type": "markdown",
   "metadata": {},
   "source": [
    "## 2.1: First, you apply the k-means algorithm. Create a plot of the SSE error of the k-means algorithm as a function of the number of clusters, for k up to 20, in order to determine the optimal number of clusters.\n"
   ]
  },
  {
   "cell_type": "code",
   "execution_count": null,
   "metadata": {
    "scrolled": true
   },
   "outputs": [],
   "source": [
    "error = np.zeros(20)\n",
    "for k in range(1,20):\n",
    "    kmeans = sk_cluster.KMeans(n_clusters=k, n_init=10, max_iter=300)\n",
    "    kmeans.fit_predict(tdidf)\n",
    "    error[k] = kmeans.inertia_\n",
    "\n",
    "plt.plot(range(1, 20), error[1:])\n",
    "plt.xlabel('Number of clusters')\n",
    "plt.ylabel('SSE')"
   ]
  },
  {
   "cell_type": "markdown",
   "metadata": {},
   "source": [
    "## 2.2: Run the k-means algorithm for the optimal number of clusters you identified in the last task. Print some hashtags/handles in each cluster. From the hashtags/handles in each cluster, try to deduce what is the topic it concerns. Include your conclusions in your report."
   ]
  },
  {
   "cell_type": "code",
   "execution_count": null,
   "metadata": {},
   "outputs": [],
   "source": [
    "kmeans = sk_cluster.KMeans(n_clusters=20, n_init=10, max_iter=300)\n",
    "kmeans.fit_predict(tdidf)\n",
    "printClusters(vectorizer, kmeans.cluster_centers_.argsort(), 20,30)"
   ]
  }
 ],
 "metadata": {
  "kernelspec": {
   "display_name": "Python 3",
   "language": "python",
   "name": "python3"
  },
  "language_info": {
   "codemirror_mode": {
    "name": "ipython",
    "version": 3
   },
   "file_extension": ".py",
   "mimetype": "text/x-python",
   "name": "python",
   "nbconvert_exporter": "python",
   "pygments_lexer": "ipython3",
   "version": "3.7.1"
  }
 },
 "nbformat": 4,
 "nbformat_minor": 2
}
